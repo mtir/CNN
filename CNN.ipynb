{
  "nbformat": 4,
  "nbformat_minor": 0,
  "metadata": {
    "colab": {
      "name": "CNN.ipynb",
      "provenance": [],
      "collapsed_sections": [],
      "include_colab_link": true
    },
    "kernelspec": {
      "name": "python3",
      "display_name": "Python 3"
    }
  },
  "cells": [
    {
      "cell_type": "markdown",
      "metadata": {
        "id": "view-in-github",
        "colab_type": "text"
      },
      "source": [
        "<a href=\"https://colab.research.google.com/github/mtir/CNN/blob/main/CNN.ipynb\" target=\"_parent\"><img src=\"https://colab.research.google.com/assets/colab-badge.svg\" alt=\"Open In Colab\"/></a>"
      ]
    },
    {
      "cell_type": "markdown",
      "metadata": {
        "id": "CZwB5-Z8mvna"
      },
      "source": [
        "**Classification d'images CNN**"
      ]
    },
    {
      "cell_type": "markdown",
      "metadata": {
        "id": "4pFv4FJYm3e4"
      },
      "source": [
        "Installation des dépendances et  importation des bibliothèques nécessaires"
      ]
    },
    {
      "cell_type": "code",
      "metadata": {
        "colab": {
          "base_uri": "https://localhost:8080/"
        },
        "id": "r90hGguFhQhh",
        "outputId": "c12d27e4-dbe5-475e-ce01-c0b8ce9445f9"
      },
      "source": [
        "pip install tensorflow keras numpy skimage matplotlib"
      ],
      "execution_count": null,
      "outputs": [
        {
          "output_type": "stream",
          "text": [
            "Requirement already satisfied: tensorflow in /usr/local/lib/python3.6/dist-packages (2.4.0)\n",
            "Requirement already satisfied: keras in /usr/local/lib/python3.6/dist-packages (2.4.3)\n",
            "Requirement already satisfied: numpy in /usr/local/lib/python3.6/dist-packages (1.19.4)\n",
            "Collecting skimage\n",
            "  Downloading https://files.pythonhosted.org/packages/3b/ee/edbfa69ba7b7d9726e634bfbeefd04b5a1764e9e74867ec916113eeaf4a1/skimage-0.0.tar.gz\n",
            "\u001b[31mERROR: Command errored out with exit status 1: python setup.py egg_info Check the logs for full command output.\u001b[0m\n"
          ],
          "name": "stdout"
        }
      ]
    },
    {
      "cell_type": "code",
      "metadata": {
        "id": "FNBQ6A6khcXX"
      },
      "source": [
        "import tensorflow as tf\r\n",
        "from tensorflow import keras\r\n",
        "from keras.models import Sequential\r\n",
        "from keras.layers import Dense, Flatten, Conv2D, MaxPooling2D, Dropout\r\n",
        "from tensorflow.keras import layers\r\n",
        "from keras.utils import to_categorical\r\n",
        "import numpy as np\r\n",
        "import matplotlib.pyplot as plt\r\n",
        "plt.style.use('fivethirtyeight')"
      ],
      "execution_count": null,
      "outputs": []
    },
    {
      "cell_type": "markdown",
      "metadata": {
        "id": "-IBTkX7SncyK"
      },
      "source": [
        "Chargement des données dans les variables"
      ]
    },
    {
      "cell_type": "code",
      "metadata": {
        "colab": {
          "base_uri": "https://localhost:8080/"
        },
        "id": "18gnUsjChfHi",
        "outputId": "9862de17-27df-4586-9540-bd1273dc533d"
      },
      "source": [
        "#Load the data\r\n",
        "from keras.datasets import cifar10\r\n",
        "(x_train, y_train), (x_test, y_test) = cifar10.load_data()"
      ],
      "execution_count": null,
      "outputs": [
        {
          "output_type": "stream",
          "text": [
            "Downloading data from https://www.cs.toronto.edu/~kriz/cifar-10-python.tar.gz\n",
            "170500096/170498071 [==============================] - 2s 0us/step\n"
          ],
          "name": "stdout"
        }
      ]
    },
    {
      "cell_type": "markdown",
      "metadata": {
        "id": "kqoRWtt0njvv"
      },
      "source": [
        "Affichage de types des données"
      ]
    },
    {
      "cell_type": "code",
      "metadata": {
        "colab": {
          "base_uri": "https://localhost:8080/"
        },
        "id": "rbUsvCM_hp91",
        "outputId": "b9a95161-d937-4a28-ddff-90a841c4824e"
      },
      "source": [
        "#Print the data type of x_train\r\n",
        "print(type(x_train))\r\n",
        "#Print the data type of y_train\r\n",
        "print(type(y_train))\r\n",
        "#Print the data type of x_test\r\n",
        "print(type(x_test))\r\n",
        "#Print the data type of y_test\r\n",
        "print(type(y_test))"
      ],
      "execution_count": null,
      "outputs": [
        {
          "output_type": "stream",
          "text": [
            "<class 'numpy.ndarray'>\n",
            "<class 'numpy.ndarray'>\n",
            "<class 'numpy.ndarray'>\n",
            "<class 'numpy.ndarray'>\n"
          ],
          "name": "stdout"
        }
      ]
    },
    {
      "cell_type": "code",
      "metadata": {
        "colab": {
          "base_uri": "https://localhost:8080/"
        },
        "id": "AsXWiFdihsiK",
        "outputId": "cdf627f3-6001-45d5-e999-4c9209e58504"
      },
      "source": [
        "#Get the shape of x_train\r\n",
        "print('x_train shape:', x_train.shape)\r\n",
        "#Get the shape of y_train\r\n",
        "print('y_train shape:', y_train.shape)\r\n",
        "#Get the shape of x_train\r\n",
        "print('x_test shape:', x_test.shape)\r\n",
        "#Get the shape of y_train\r\n",
        "print('y_test shape:', y_test.shape)"
      ],
      "execution_count": null,
      "outputs": [
        {
          "output_type": "stream",
          "text": [
            "x_train shape: (50000, 32, 32, 3)\n",
            "y_train shape: (50000, 1)\n",
            "x_test shape: (10000, 32, 32, 3)\n",
            "y_test shape: (10000, 1)\n"
          ],
          "name": "stdout"
        }
      ]
    },
    {
      "cell_type": "markdown",
      "metadata": {
        "id": "xBqc_Enln6Lz"
      },
      "source": [
        "Tester l'image d'index=0"
      ]
    },
    {
      "cell_type": "code",
      "metadata": {
        "colab": {
          "base_uri": "https://localhost:8080/"
        },
        "id": "NLIklxaVhvBg",
        "outputId": "59a70b94-d6b7-45d1-eaad-7464d24185b8"
      },
      "source": [
        "index = 0\r\n",
        "x_train[index]"
      ],
      "execution_count": null,
      "outputs": [
        {
          "output_type": "execute_result",
          "data": {
            "text/plain": [
              "array([[[ 59,  62,  63],\n",
              "        [ 43,  46,  45],\n",
              "        [ 50,  48,  43],\n",
              "        ...,\n",
              "        [158, 132, 108],\n",
              "        [152, 125, 102],\n",
              "        [148, 124, 103]],\n",
              "\n",
              "       [[ 16,  20,  20],\n",
              "        [  0,   0,   0],\n",
              "        [ 18,   8,   0],\n",
              "        ...,\n",
              "        [123,  88,  55],\n",
              "        [119,  83,  50],\n",
              "        [122,  87,  57]],\n",
              "\n",
              "       [[ 25,  24,  21],\n",
              "        [ 16,   7,   0],\n",
              "        [ 49,  27,   8],\n",
              "        ...,\n",
              "        [118,  84,  50],\n",
              "        [120,  84,  50],\n",
              "        [109,  73,  42]],\n",
              "\n",
              "       ...,\n",
              "\n",
              "       [[208, 170,  96],\n",
              "        [201, 153,  34],\n",
              "        [198, 161,  26],\n",
              "        ...,\n",
              "        [160, 133,  70],\n",
              "        [ 56,  31,   7],\n",
              "        [ 53,  34,  20]],\n",
              "\n",
              "       [[180, 139,  96],\n",
              "        [173, 123,  42],\n",
              "        [186, 144,  30],\n",
              "        ...,\n",
              "        [184, 148,  94],\n",
              "        [ 97,  62,  34],\n",
              "        [ 83,  53,  34]],\n",
              "\n",
              "       [[177, 144, 116],\n",
              "        [168, 129,  94],\n",
              "        [179, 142,  87],\n",
              "        ...,\n",
              "        [216, 184, 140],\n",
              "        [151, 118,  84],\n",
              "        [123,  92,  72]]], dtype=uint8)"
            ]
          },
          "metadata": {
            "tags": []
          },
          "execution_count": 6
        }
      ]
    },
    {
      "cell_type": "markdown",
      "metadata": {
        "id": "1ZHpV72Cn_Cq"
      },
      "source": [
        "Affichage de l'image"
      ]
    },
    {
      "cell_type": "code",
      "metadata": {
        "colab": {
          "base_uri": "https://localhost:8080/",
          "height": 284
        },
        "id": "Wsgom2h0hyUk",
        "outputId": "b4c070cc-b790-4094-8a82-06923619d937"
      },
      "source": [
        "img = plt.imshow(x_train[index])"
      ],
      "execution_count": null,
      "outputs": [
        {
          "output_type": "display_data",
          "data": {
            "image/png": "[encoded data removed]",
            "text/plain": [
              "<Figure size 432x288 with 1 Axes>"
            ]
          },
          "metadata": {
            "tags": []
          }
        }
      ]
    },
    {
      "cell_type": "code",
      "metadata": {
        "colab": {
          "base_uri": "https://localhost:8080/"
        },
        "id": "903q1bqRh26q",
        "outputId": "9840c257-7727-4654-b60b-32ac9b33200c"
      },
      "source": [
        "print('The image label is: ', y_train[index])"
      ],
      "execution_count": null,
      "outputs": [
        {
          "output_type": "stream",
          "text": [
            "The image label is:  [6]\n"
          ],
          "name": "stdout"
        }
      ]
    },
    {
      "cell_type": "markdown",
      "metadata": {
        "id": "sK8VcT9an1YQ"
      },
      "source": [
        "La diffréentes classes"
      ]
    },
    {
      "cell_type": "code",
      "metadata": {
        "colab": {
          "base_uri": "https://localhost:8080/"
        },
        "id": "c_to4vDkh45y",
        "outputId": "50d49c02-c8e8-449a-a6df-035cbd746c13"
      },
      "source": [
        "classification = ['airplane', 'automobile', 'bird', 'cat', 'deer', 'dog', 'frog', 'horse', 'ship', 'truck']\r\n",
        "#Print the image class\r\n",
        "print('The image class is: ', classification[y_train[index][0]])"
      ],
      "execution_count": null,
      "outputs": [
        {
          "output_type": "stream",
          "text": [
            "The image class is:  frog\n"
          ],
          "name": "stdout"
        }
      ]
    },
    {
      "cell_type": "markdown",
      "metadata": {
        "id": "Fnj_D-BqoWnJ"
      },
      "source": [
        "l'utilison du one_hot_recording pour convertir les étiquettes en un ensemble de 10 nombres"
      ]
    },
    {
      "cell_type": "code",
      "metadata": {
        "id": "YEq0BVZkh7gx"
      },
      "source": [
        "y_train_one_hot = to_categorical(y_train)\r\n",
        "y_test_one_hot = to_categorical(y_test)"
      ],
      "execution_count": null,
      "outputs": []
    },
    {
      "cell_type": "code",
      "metadata": {
        "colab": {
          "base_uri": "https://localhost:8080/"
        },
        "id": "n-boelhLh-rY",
        "outputId": "d1a44711-8013-4200-9ad1-2326297331a3"
      },
      "source": [
        "print(y_train_one_hot)"
      ],
      "execution_count": null,
      "outputs": [
        {
          "output_type": "stream",
          "text": [
            "[[0. 0. 0. ... 0. 0. 0.]\n",
            " [0. 0. 0. ... 0. 0. 1.]\n",
            " [0. 0. 0. ... 0. 0. 1.]\n",
            " ...\n",
            " [0. 0. 0. ... 0. 0. 1.]\n",
            " [0. 1. 0. ... 0. 0. 0.]\n",
            " [0. 1. 0. ... 0. 0. 0.]]\n"
          ],
          "name": "stdout"
        }
      ]
    },
    {
      "cell_type": "code",
      "metadata": {
        "colab": {
          "base_uri": "https://localhost:8080/"
        },
        "id": "pLSXv10viBMI",
        "outputId": "d248fb12-4a0f-4271-d3b1-3f924a2b94c4"
      },
      "source": [
        "print('The one hot label is:', y_train_one_hot[0])"
      ],
      "execution_count": null,
      "outputs": [
        {
          "output_type": "stream",
          "text": [
            "The one hot label is: [0. 0. 0. 0. 0. 0. 1. 0. 0. 0.]\n"
          ],
          "name": "stdout"
        }
      ]
    },
    {
      "cell_type": "markdown",
      "metadata": {
        "id": "AF5WNoDnorhK"
      },
      "source": [
        "Normalisation des pixels des images à une valeur comprise entre 0 et 1, ce sont  des valeurs comprises entre 0 et 255"
      ]
    },
    {
      "cell_type": "code",
      "metadata": {
        "id": "pJiwjQVqiGPV"
      },
      "source": [
        "x_train = x_train / 255\r\n",
        "x_test = x_test / 255"
      ],
      "execution_count": null,
      "outputs": []
    },
    {
      "cell_type": "markdown",
      "metadata": {
        "id": "_rzOHlo_o2Rm"
      },
      "source": [
        "**La construction du modèle**"
      ]
    },
    {
      "cell_type": "code",
      "metadata": {
        "id": "lkFC3CPeiG1o"
      },
      "source": [
        "model = Sequential()"
      ],
      "execution_count": null,
      "outputs": []
    },
    {
      "cell_type": "markdown",
      "metadata": {
        "id": "ZCmmn5Z_pFYF"
      },
      "source": [
        "La convolution du modèle"
      ]
    },
    {
      "cell_type": "code",
      "metadata": {
        "id": "pw5lVVKsiKhQ"
      },
      "source": [
        "model.add(Conv2D(32, (5, 5), activation='relu', input_shape=(32,32,3)))"
      ],
      "execution_count": null,
      "outputs": []
    },
    {
      "cell_type": "markdown",
      "metadata": {
        "id": "TGt-_NGQpTqd"
      },
      "source": [
        "Le pooling "
      ]
    },
    {
      "cell_type": "code",
      "metadata": {
        "id": "lDr13on7jITV"
      },
      "source": [
        "model.add(MaxPooling2D(pool_size=(2, 2)))"
      ],
      "execution_count": null,
      "outputs": []
    },
    {
      "cell_type": "markdown",
      "metadata": {
        "id": "xdgKPLLHpiuo"
      },
      "source": [
        "la convolution et le pooling une deuxième foix"
      ]
    },
    {
      "cell_type": "code",
      "metadata": {
        "id": "G8qsKinjjI9Z"
      },
      "source": [
        "model.add(Conv2D(64, (5, 5), activation='relu'))\r\n",
        "model.add(MaxPooling2D(pool_size=(2, 2)))"
      ],
      "execution_count": null,
      "outputs": []
    },
    {
      "cell_type": "markdown",
      "metadata": {
        "id": "jAK4Qmfvpngt"
      },
      "source": [
        "L'utilisation du fonction flatten"
      ]
    },
    {
      "cell_type": "code",
      "metadata": {
        "id": "ipQjHLJRjLY3"
      },
      "source": [
        "model.add(Flatten())"
      ],
      "execution_count": null,
      "outputs": []
    },
    {
      "cell_type": "code",
      "metadata": {
        "id": "O23CiY7DjNMQ"
      },
      "source": [
        "model.add(Dense(1000, activation='relu'))"
      ],
      "execution_count": null,
      "outputs": []
    },
    {
      "cell_type": "markdown",
      "metadata": {
        "id": "h6yR9_nSpvZH"
      },
      "source": [
        "L'ajout d'un calque de perte"
      ]
    },
    {
      "cell_type": "code",
      "metadata": {
        "id": "EHX6XkyujQsZ"
      },
      "source": [
        "model.add(Dropout(0.5))"
      ],
      "execution_count": null,
      "outputs": []
    },
    {
      "cell_type": "code",
      "metadata": {
        "id": "kROoCgEVjS9Z"
      },
      "source": [
        "model.add(Dense(500, activation='relu'))"
      ],
      "execution_count": null,
      "outputs": []
    },
    {
      "cell_type": "code",
      "metadata": {
        "id": "Oir-e4GkjVtM"
      },
      "source": [
        "model.add(Dropout(0.5))"
      ],
      "execution_count": null,
      "outputs": []
    },
    {
      "cell_type": "code",
      "metadata": {
        "id": "6pXHuu0QjX7o"
      },
      "source": [
        "model.add(Dense(250, activation='relu'))"
      ],
      "execution_count": null,
      "outputs": []
    },
    {
      "cell_type": "markdown",
      "metadata": {
        "id": "3mA4PKRxp6p6"
      },
      "source": [
        "La fonction softmax"
      ]
    },
    {
      "cell_type": "code",
      "metadata": {
        "id": "h31SzRhxjaHR"
      },
      "source": [
        "model.add(Dense(10, activation='softmax'))"
      ],
      "execution_count": null,
      "outputs": []
    },
    {
      "cell_type": "code",
      "metadata": {
        "id": "NUM4durvjcMD"
      },
      "source": [
        "model = Sequential()\r\n",
        "model.add(Conv2D(32, (5, 5), activation='relu', input_shape=(32,32,3)))\r\n",
        "model.add(MaxPooling2D(pool_size=(2, 2)))\r\n",
        "model.add(Conv2D(64, (5, 5), activation='relu'))\r\n",
        "model.add(MaxPooling2D(pool_size=(2, 2)))\r\n",
        "model.add(Flatten())\r\n",
        "model.add(Dense(1000, activation='relu'))\r\n",
        "model.add(Dropout(0.5))\r\n",
        "model.add(Dense(500, activation='relu'))\r\n",
        "model.add(Dropout(0.5))\r\n",
        "model.add(Dense(250, activation='relu'))\r\n",
        "model.add(Dense(10, activation='softmax'))"
      ],
      "execution_count": null,
      "outputs": []
    },
    {
      "cell_type": "markdown",
      "metadata": {
        "id": "pZRkdKLup3Go"
      },
      "source": [
        "Pour compiler le modèle nous avons besoin d’une fonction loss (categorical_crossentropy ) qui est utilisée pour les classes supérieures à 2, d’un optimiseur (adam) et d’une précision(accuracy) du modèle."
      ]
    },
    {
      "cell_type": "code",
      "metadata": {
        "id": "iR7QK8spjf1R"
      },
      "source": [
        "model.compile(loss='categorical_crossentropy', \r\n",
        "              optimizer='adam',\r\n",
        "              metrics=['accuracy'])"
      ],
      "execution_count": null,
      "outputs": []
    },
    {
      "cell_type": "markdown",
      "metadata": {
        "id": "gf6WX7PxqKuq"
      },
      "source": [
        "**L'apprentissage du modèle**"
      ]
    },
    {
      "cell_type": "code",
      "metadata": {
        "colab": {
          "base_uri": "https://localhost:8080/"
        },
        "id": "Zyds7xxtkHAu",
        "outputId": "98aee550-f968-4aba-e6c9-289dfcce5dc0"
      },
      "source": [
        "hist = model.fit(x_train, y_train_one_hot, \r\n",
        "           batch_size=256, epochs=70, validation_split=0.3 )"
      ],
      "execution_count": null,
      "outputs": [
        {
          "output_type": "stream",
          "text": [
            "Epoch 1/70\n",
            "137/137 [==============================] - 73s 530ms/step - loss: 2.0227 - accuracy: 0.2310 - val_loss: 1.5028 - val_accuracy: 0.4391\n",
            "Epoch 2/70\n",
            "137/137 [==============================] - 70s 515ms/step - loss: 1.4755 - accuracy: 0.4517 - val_loss: 1.2853 - val_accuracy: 0.5390\n",
            "Epoch 3/70\n",
            "137/137 [==============================] - 70s 514ms/step - loss: 1.2670 - accuracy: 0.5426 - val_loss: 1.1522 - val_accuracy: 0.5861\n",
            "Epoch 4/70\n",
            "137/137 [==============================] - 70s 513ms/step - loss: 1.1190 - accuracy: 0.5979 - val_loss: 1.1003 - val_accuracy: 0.6074\n",
            "Epoch 5/70\n",
            "137/137 [==============================] - 71s 517ms/step - loss: 1.0253 - accuracy: 0.6367 - val_loss: 1.0408 - val_accuracy: 0.6317\n",
            "Epoch 6/70\n",
            "137/137 [==============================] - 79s 580ms/step - loss: 0.9477 - accuracy: 0.6623 - val_loss: 1.0655 - val_accuracy: 0.6283\n",
            "Epoch 7/70\n",
            "137/137 [==============================] - 72s 524ms/step - loss: 0.8716 - accuracy: 0.6941 - val_loss: 0.9921 - val_accuracy: 0.6509\n",
            "Epoch 8/70\n",
            " 52/137 [==========>...................] - ETA: 40s - loss: 0.7841 - accuracy: 0.7194"
          ],
          "name": "stdout"
        }
      ]
    },
    {
      "cell_type": "markdown",
      "metadata": {
        "id": "Wy6TUAwsqPuA"
      },
      "source": [
        "**L'evaluation du modèle**"
      ]
    },
    {
      "cell_type": "code",
      "metadata": {
        "id": "lkWky-iNkLIK"
      },
      "source": [
        "model.evaluate(x_test, y_test_one_hot)[1]"
      ],
      "execution_count": null,
      "outputs": []
    },
    {
      "cell_type": "markdown",
      "metadata": {
        "id": "HyEVUsRQqTRA"
      },
      "source": [
        "**La visualisation du modèle **"
      ]
    },
    {
      "cell_type": "code",
      "metadata": {
        "id": "FCMqMPLIkVp7"
      },
      "source": [
        "#Visualize the models accuracy\r\n",
        "plt.plot(hist.history['accuracy'])\r\n",
        "plt.plot(hist.history['val_accuracy'])\r\n",
        "plt.title('Model accuracy')\r\n",
        "plt.ylabel('Accuracy')\r\n",
        "plt.xlabel('Epoch')\r\n",
        "plt.legend(['Train', 'Val'], loc='upper left')\r\n",
        "plt.show()"
      ],
      "execution_count": null,
      "outputs": []
    },
    {
      "cell_type": "code",
      "metadata": {
        "id": "FiX9Dd-WlJlR"
      },
      "source": [
        "#Visualize the models loss\r\n",
        "plt.plot(hist.history['loss'])\r\n",
        "plt.plot(hist.history['val_loss'])\r\n",
        "plt.title('Model loss')\r\n",
        "plt.ylabel('Loss')\r\n",
        "plt.xlabel('Epoch')\r\n",
        "plt.legend(['Train', 'Val'], loc='upper right')\r\n",
        "plt.show()"
      ],
      "execution_count": null,
      "outputs": []
    },
    {
      "cell_type": "markdown",
      "metadata": {
        "id": "4gvQcWHQqhvC"
      },
      "source": [
        "**Le test du modèle**\r\n",
        "\r\n",
        "pour tester le modèle nous avons entré une image \"download\" cette image est une image de airplane que nous avons dans motre pc donc si nous veulons changer l'image de test il suffit de donner le meme non que nous veulons entré comme image avec la new_image"
      ]
    },
    {
      "cell_type": "code",
      "metadata": {
        "id": "ZRsgt9PnlMpZ"
      },
      "source": [
        "#Load the data\r\n",
        "from google.colab import files # Use to load data on Google Colab\r\n",
        "uploaded = files.upload() # Use to load data on Google Colab\r\n",
        "new_image = plt.imread(\"download.jpg\") #Read in the image (3, 14, 20)"
      ],
      "execution_count": null,
      "outputs": []
    },
    {
      "cell_type": "markdown",
      "metadata": {
        "id": "CXMmPjjWqtVL"
      },
      "source": [
        "La prédiction "
      ]
    },
    {
      "cell_type": "code",
      "metadata": {
        "id": "d0dP_JunlRc-"
      },
      "source": [
        "predictions = model.predict(np.array( [resized_image] ))"
      ],
      "execution_count": null,
      "outputs": []
    },
    {
      "cell_type": "code",
      "metadata": {
        "id": "IqwL7l30lUli"
      },
      "source": [
        "predictions"
      ],
      "execution_count": null,
      "outputs": []
    },
    {
      "cell_type": "markdown",
      "metadata": {
        "id": "tWRqjJr4q5fT"
      },
      "source": [
        "La classification de l'image selon les 5 probabilités plus compatibles"
      ]
    },
    {
      "cell_type": "code",
      "metadata": {
        "id": "43RK7L_nlW_n"
      },
      "source": [
        "list_index = [0,1,2,3,4,5,6,7,8,9]\r\n",
        "x = predictions\r\n",
        "for i in range(10):\r\n",
        "  for j in range(10):\r\n",
        "    if x[0][list_index[i]] > x[0][list_index[j]]:\r\n",
        "      temp = list_index[i]\r\n",
        "      list_index[i] = list_index[j]\r\n",
        "      list_index[j] = temp\r\n",
        "#Show the sorted labels in order from highest probability to lowest\r\n",
        "print(list_index)"
      ],
      "execution_count": null,
      "outputs": []
    },
    {
      "cell_type": "code",
      "metadata": {
        "id": "h0JWvv4llZjO"
      },
      "source": [
        "i=0\r\n",
        "for i in range(5):\r\n",
        "  print(classification[list_index[i]], ':', round(predictions[0][list_index[i]] * 100, 2), '%')"
      ],
      "execution_count": null,
      "outputs": []
    },
    {
      "cell_type": "code",
      "metadata": {
        "id": "TwcZMELAmUKm"
      },
      "source": [
        "#To save this model \r\n",
        "model.save('my_model.h5')"
      ],
      "execution_count": null,
      "outputs": []
    },
    {
      "cell_type": "code",
      "metadata": {
        "id": "dk84hBOGmWPE"
      },
      "source": [
        "#To load this model\r\n",
        "from keras.models import load_model\r\n",
        "model = load_model('my_model.h5')"
      ],
      "execution_count": null,
      "outputs": []
    }
  ]
}